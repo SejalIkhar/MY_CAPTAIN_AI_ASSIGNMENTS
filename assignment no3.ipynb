{
  "nbformat": 4,
  "nbformat_minor": 0,
  "metadata": {
    "colab": {
      "provenance": [],
      "authorship_tag": "ABX9TyMQf7U3pGDo1U2vJo3dUWVX",
      "include_colab_link": true
    },
    "kernelspec": {
      "name": "python3",
      "display_name": "Python 3"
    },
    "language_info": {
      "name": "python"
    }
  },
  "cells": [
    {
      "cell_type": "markdown",
      "metadata": {
        "id": "view-in-github",
        "colab_type": "text"
      },
      "source": [
        "<a href=\"https://colab.research.google.com/github/SejalIkhar/MY_CAPTAIN_AI_ASSIGNMENTS/blob/main/assignment%20no3.ipynb\" target=\"_parent\"><img src=\"https://colab.research.google.com/assets/colab-badge.svg\" alt=\"Open In Colab\"/></a>"
      ]
    },
    {
      "cell_type": "code",
      "source": [
        "def generate_fibonacci(limit):\n",
        "    fibonacci_sequence = [0, 1]\n",
        "    while True:\n",
        "        next_fib = fibonacci_sequence[-1] + fibonacci_sequence[-2]\n",
        "        if next_fib <= limit:\n",
        "            fibonacci_sequence.append(next_fib)\n",
        "        else:\n",
        "            break\n",
        "    return fibonacci_sequence\n",
        "\n",
        "limit = int(input(\"Enter the limit for Fibonacci sequence: \"))\n",
        "fibonacci_sequence = generate_fibonacci(limit)\n",
        "print(\"Fibonacci sequence up to\", limit, \":\", fibonacci_sequence)"
      ],
      "metadata": {
        "colab": {
          "base_uri": "https://localhost:8080/"
        },
        "id": "Hcuya3nEQEDb",
        "outputId": "c67c467e-e8c5-4202-8c2b-cf1e31e2a998"
      },
      "execution_count": 2,
      "outputs": [
        {
          "output_type": "stream",
          "name": "stdout",
          "text": [
            "Enter the limit for Fibonacci sequence: 5\n",
            "Fibonacci sequence up to 5 : [0, 1, 1, 2, 3, 5]\n"
          ]
        }
      ]
    }
  ]
}