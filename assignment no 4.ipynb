{
  "nbformat": 4,
  "nbformat_minor": 0,
  "metadata": {
    "colab": {
      "provenance": [],
      "authorship_tag": "ABX9TyPxNfhkrrYjkzL5tUvVN1AH",
      "include_colab_link": true
    },
    "kernelspec": {
      "name": "python3",
      "display_name": "Python 3"
    },
    "language_info": {
      "name": "python"
    }
  },
  "cells": [
    {
      "cell_type": "markdown",
      "metadata": {
        "id": "view-in-github",
        "colab_type": "text"
      },
      "source": [
        "<a href=\"https://colab.research.google.com/github/SejalIkhar/MY_CAPTAIN_AI_ASSIGNMENTS/blob/main/assignment%20no%204.ipynb\" target=\"_parent\"><img src=\"https://colab.research.google.com/assets/colab-badge.svg\" alt=\"Open In Colab\"/></a>"
      ]
    },
    {
      "cell_type": "code",
      "execution_count": 1,
      "metadata": {
        "colab": {
          "base_uri": "https://localhost:8080/"
        },
        "id": "MnD42Wy6LZx9",
        "outputId": "75808f67-4260-41a2-b2dd-dd4c1a0032d1"
      },
      "outputs": [
        {
          "output_type": "stream",
          "name": "stdout",
          "text": [
            "Union of E and N is {0, 1, 2, 3, 4, 5, 6, 8}\n",
            "Intersection of E and N is {2, 4}\n",
            "Difference of E and N is {0, 8, 6}\n",
            "Symmetric difference of E and N is {0, 1, 3, 5, 6, 8}\n"
          ]
        }
      ],
      "source": [
        "# Define two sets\n",
        "E = {0, 2, 4, 6, 8}\n",
        "N = {1, 2, 3, 4, 5}\n",
        "\n",
        "# Perform set operations\n",
        "union_result = E.union(N)\n",
        "intersection_result = E.intersection(N)\n",
        "difference_result = E.difference(N)\n",
        "symmetric_difference_result = E.symmetric_difference(N)\n",
        "\n",
        "# Print results\n",
        "print(\"Union of E and N is\", union_result)\n",
        "print(\"Intersection of E and N is\", intersection_result)\n",
        "print(\"Difference of E and N is\", difference_result)\n",
        "print(\"Symmetric difference of E and N is\", symmetric_difference_result)\n"
      ]
    }
  ]
}